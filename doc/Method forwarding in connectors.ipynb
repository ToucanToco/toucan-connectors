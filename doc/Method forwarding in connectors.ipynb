{
 "cells": [
  {
   "cell_type": "code",
   "execution_count": 38,
   "metadata": {},
   "outputs": [],
   "source": [
    "from pydantic import BaseModel\n",
    "from typing import Callable"
   ]
  },
  {
   "cell_type": "code",
   "execution_count": 39,
   "metadata": {},
   "outputs": [],
   "source": [
    "class DummyDataSource(BaseModel):\n",
    "    table: str\n",
    "\n",
    "class DummyConnector(BaseModel):\n",
    "    host: str\n",
    "    secrets_id: str\n",
    "    \n",
    "    get_secrets: Callable[[str], dict]\n",
    "            \n",
    "    def get_df(self, data_source: DummyDataSource):\n",
    "        print('get_df for table', data_source.table)\n",
    "        print('with secrets: ', self.get_secrets(self.secrets_id))"
   ]
  },
  {
   "cell_type": "code",
   "execution_count": 42,
   "metadata": {},
   "outputs": [
    {
     "name": "stdout",
     "output_type": "stream",
     "text": [
      "get_df for table plop\n",
      "with secrets:  {'token': '1234567890'}\n"
     ]
    }
   ],
   "source": [
    "def get_dummy_secrets(secrets_id):\n",
    "    if secrets_id == 'aaa':\n",
    "        return {'token': '1234567890'}\n",
    "    elif secrets_id == 'bbb':\n",
    "        return {'token': 'azertyuiop'}\n",
    "\n",
    "conn_config = {'host': '0.2.3.4', 'secrets_id': 'aaa'}\n",
    "conn = DummyConnector(get_secrets=get_dummy_secrets, **conn_config)\n",
    "ds = DummyDataSource(table='plop')\n",
    "\n",
    "conn.get_df(ds)"
   ]
  },
  {
   "cell_type": "code",
   "execution_count": 43,
   "metadata": {},
   "outputs": [
    {
     "data": {
      "text/plain": [
       "{'title': 'DummyConnector',\n",
       " 'type': 'object',\n",
       " 'properties': {'host': {'title': 'Host', 'type': 'string'},\n",
       "  'secrets_id': {'title': 'Secrets Id', 'type': 'string'}},\n",
       " 'required': ['host', 'secrets_id']}"
      ]
     },
     "execution_count": 43,
     "metadata": {},
     "output_type": "execute_result"
    }
   ],
   "source": [
    "DummyConnector.schema()"
   ]
  }
 ],
 "metadata": {
  "kernelspec": {
   "display_name": "Python 3",
   "language": "python",
   "name": "python3"
  },
  "language_info": {
   "codemirror_mode": {
    "name": "ipython",
    "version": 3
   },
   "file_extension": ".py",
   "mimetype": "text/x-python",
   "name": "python",
   "nbconvert_exporter": "python",
   "pygments_lexer": "ipython3",
   "version": "3.7.4"
  }
 },
 "nbformat": 4,
 "nbformat_minor": 4
}
